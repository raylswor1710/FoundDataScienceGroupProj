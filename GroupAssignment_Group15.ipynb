{
 "cells": [
  {
   "cell_type": "markdown",
   "metadata": {},
   "source": [
    "Collaborators=\"Rob Aylsworth\"\n",
    "\n",
    "Date=\"December 11, 2023\""
   ]
  },
  {
   "cell_type": "markdown",
   "metadata": {},
   "source": [
    "# Group 15 Assignment: Dataset Analysis and Interpretation"
   ]
  },
  {
   "cell_type": "markdown",
   "metadata": {},
   "source": [
    "# Introduction"
   ]
  },
  {
   "cell_type": "markdown",
   "metadata": {},
   "source": [
    "Topic: Food Deserts in Canada   (Specifically KW and Cambridge)\n",
    "\n",
    "Dataset: https://www150.statcan.gc.ca/n1/pub/13-20-0001/132000012022001-eng.htm\n",
    "\n",
    "Approach/Question: Using this data set we will explore whether or not food deserts exist in Kitchener/Waterloo/Cambridge.  We will also attempt to determine whether particular food deserts (types of food availability) exist in terms of food classification.\n",
    "\n",
    "The null hypothesis is be there are no significant food deserts in the tri-cities.\n",
    "\n",
    "Kindly let us know if this topic and dataset are appropriate to proceed."
   ]
  },
  {
   "cell_type": "markdown",
   "metadata": {},
   "source": [
    "# Objectives"
   ]
  },
  {
   "cell_type": "markdown",
   "metadata": {},
   "source": [
    "What are the goals of the analysis and why did you choose them? What question(s) do you want to answer? What hypothesis(es) do you have and what is your approach to tackle the problem?\n",
    "\n",
    "\n",
    "Goal was to determine any food deserts in the kitchener waterloo/cambridge area.\n",
    "\n",
    "\n"
   ]
  },
  {
   "cell_type": "markdown",
   "metadata": {},
   "source": [
    "# Data Preparation"
   ]
  },
  {
   "cell_type": "markdown",
   "metadata": {},
   "source": [
    "Data Preparation: What was your data source (e.g., web scraping, corporate data, a standard machine learning data set, open data, etc.)? How good was the data quality? What did you need to do to procure it? What tools or code did you need to use to prepare it for analysis? What challenges did you face?\n",
    "\n",
    "\n",
    "Tthe Canadian Food Environment Dataset (Can-FED) is a pan-Canadian dataset of retail food environment measures at the dissemination area (DA) level based on food outlet data from the 2018 Statistics Canada Business Register. \n",
    "\n",
    "As such the data only contained a field called dauid. This is a dissemination area code (2 digit province, 2 digit sensus division, and then 4 digit dissemination code). To be able to map this and look for trends, we downloaded the dissimenation area shape file and then used geopanada to load that data and merge the geography info into the food dataset.\n",
    "\n",
    "Also we observed that not all dissemination areas are present, we decided to just leave those as and they will show as white spots in the maps. The data is just not available for these.\n",
    "\n",
    "\n"
   ]
  },
  {
   "cell_type": "markdown",
   "metadata": {
    "cell_style": "center"
   },
   "source": [
    "# Analysis"
   ]
  },
  {
   "cell_type": "markdown",
   "metadata": {},
   "source": [
    "What trends, correlations, and/or patterns do you see in the data?"
   ]
  },
  {
   "cell_type": "code",
   "execution_count": 33,
   "metadata": {},
   "outputs": [],
   "source": [
    "#Do imports\n",
    "import sklearn\n",
    "import pandas as pd\n",
    "import matplotlib.pyplot as plt\n",
    "import seaborn as sns\n",
    "%matplotlib inline\n",
    "import numpy as np\n",
    "import requests\n",
    "import io\n",
    "import geopandas as gpd"
   ]
  },
  {
   "cell_type": "code",
   "execution_count": 45,
   "metadata": {},
   "outputs": [],
   "source": [
    "import pandas as pd\n",
    "import geopandas as gpd\n",
    "\n",
    "# Import the food data\n",
    "food_data = pd.read_csv('c:/Users/raylsworth/OneDrive/DataScience/Foundations/Group Assignment/GUF_1000m.csv', sep=',', index_col='cmaname')\n",
    "\n",
    "# Select relevant columns\n",
    "tricities_fd = food_data.loc['Kitchener - Cambridge - Waterloo']\n",
    "sel_tricities_fd = tricities_fd[['v1','dauid','province','pruid','prname','csduid','csdname','cmauid','popctrraclass','mRFEI_cat_Canada','mRFEI_cat_ON','rmix_cat_Canada','rmix_cat_ON','_denfastfood_cat_Canada','_denfastfood_cat_ON','_denallconvenience_cat_Canada','_denallconvenience_cat_ON','_denchaingrocerystores_cat_Can','_denchaingrocerystores_cat_ON','_dengrocerystores_cat_Canada','_dengrocerystores_cat_ON','_denfruitandvegetable_cat_Can','_denfruitandvegetable_cat_ON','_denrestaurants_cat_Canada','_denrestaurants_cat_ON']]\n",
    "\n",
    "# Load the Census Boundary File\n",
    "geo_data = gpd.read_file('c:/Users/raylsworth/OneDrive/DataScience/Foundations/Group Assignment/lda_000b21a_e.shp')\n",
    "\n",
    "# Convert 'DAUID' to the same data type as 'dauid'\n",
    "geo_data['DAUID'] = geo_data['DAUID'].astype(sel_tricities_fd['dauid'].dtype)\n",
    "\n",
    "# Assuming the correct column name is 'DAUID' (replace it with the actual column name)\n",
    "merged_data = pd.merge(geo_data, sel_tricities_fd, left_on='DAUID', right_on='dauid', how='right')\n",
    "\n",
    "# Display the merged data\n",
    "#print(merged_data)\n",
    "\n",
    "# Create a GeoDataFrame from the merged data\n",
    "gdf = gpd.GeoDataFrame(merged_data, geometry='geometry')\n",
    "\n",
    "# Specify the columns you want to visualize\n",
    "\n",
    "columns_to_visualize = ['mRFEI_cat_ON', 'rmix_cat_ON', '_denfastfood_cat_ON', '_denallconvenience_cat_ON',\n",
    "                         '_denchaingrocerystores_cat_ON', '_dengrocerystores_cat_ON', '_denfruitandvegetable_cat_ON',\n",
    "                         '_denrestaurants_cat_ON']\n",
    "\n",
    "# Calculate the number of rows and columns for the subplots\n",
    "#num_rows = 3\n",
    "#num_cols = (len(columns_to_visualize) + num_rows - 1) // num_rows\n",
    "\n",
    "# Create subplots\n",
    "#fig, axes = plt.subplots(num_rows, num_cols, figsize=(15, 15))\n",
    "\n",
    "# Flatten the axes array for easy iteration\n",
    "#axes = axes.flatten()\n",
    "\n",
    "# Plot each column in a separate subplot\n",
    "#for i, column in enumerate(columns_to_visualize):\n",
    "#    gdf.plot(ax=axes[i], edgecolor='black', linewidth=0.5, column=column, legend=True)\n",
    "#   axes[i].set_title(f'Map Color for {column}')\n",
    "#    axes[i].set_xlabel('Longitude')\n",
    "#    axes[i].set_ylabel('Latitude')\n",
    "\n",
    "# Remove empty subplots\n",
    "#for i in range(len(columns_to_visualize), len(axes)):\n",
    "#    fig.delaxes(axes[i])\n",
    "\n",
    "# Adjust layout\n",
    "#plt.tight_layout()\n",
    "#plt.show()\n",
    "\n",
    "# Plot each column in a separate figure\n",
    "for column in columns_to_visualize:\n",
    "    fig, ax = plt.subplots(figsize=(10, 10))\n",
    "    gdf.plot(ax=ax, edgecolor='black', linewidth=0.5, column=column, legend=True)\n",
    "    ax.set_title(f'Map Color for {column}')\n",
    "    ax.set_xlabel('Longitude')\n",
    "    ax.set_ylabel('Latitude')\n",
    "    plt.show()\n",
    "\n",
    "\n"
   ]
  },
  {
   "cell_type": "code",
   "execution_count": null,
   "metadata": {},
   "outputs": [],
   "source": []
  },
  {
   "cell_type": "markdown",
   "metadata": {
    "cell_style": "center"
   },
   "source": [
    "## Conclusions"
   ]
  },
  {
   "cell_type": "markdown",
   "metadata": {},
   "source": [
    "Conclusions: What did you learn about your data set?\n",
    "\n",
    "1-km buffers used may be too small to capture some residents’ food shopping behaviour, particularly in rural DAs. Since the buffer is drawn around the population-weighted centroid of each DA, the buffers in rural areas tend to be closer to the population-centre, which is often where food stores operate. This may mean that the access to a food store is overestimated for those residents who live further from the population centre.\n"
   ]
  }
 ],
 "metadata": {
  "anaconda-cloud": {},
  "kernelspec": {
   "display_name": "Python 3",
   "language": "python",
   "name": "python3"
  },
  "language_info": {
   "codemirror_mode": {
    "name": "ipython",
    "version": 3
   },
   "file_extension": ".py",
   "mimetype": "text/x-python",
   "name": "python",
   "nbconvert_exporter": "python",
   "pygments_lexer": "ipython3",
   "version": "3.11.4"
  },
  "latex_envs": {
   "LaTeX_envs_menu_present": true,
   "autoclose": false,
   "autocomplete": false,
   "bibliofile": "biblio.bib",
   "cite_by": "apalike",
   "current_citInitial": 1,
   "eqLabelWithNumbers": true,
   "eqNumInitial": 1,
   "hotkeys": {
    "equation": "Ctrl-E",
    "itemize": "Ctrl-I"
   },
   "labels_anchors": true,
   "latex_user_defs": false,
   "report_style_numbering": false,
   "user_envs_cfg": false
  },
  "nbTranslate": {
   "displayLangs": [
    "en"
   ],
   "hotkey": "alt-t",
   "langInMainMenu": true,
   "sourceLang": "en",
   "targetLang": "fr",
   "useGoogleTranslate": true
  },
  "toc": {
   "base_numbering": 1,
   "nav_menu": {},
   "number_sections": true,
   "sideBar": true,
   "skip_h1_title": true,
   "title_cell": "Table of Contents",
   "title_sidebar": "Table of Contents",
   "toc_cell": true,
   "toc_position": {
    "height": "calc(100% - 180px)",
    "left": "10px",
    "top": "150px",
    "width": "281px"
   },
   "toc_section_display": true,
   "toc_window_display": true
  },
  "varInspector": {
   "cols": {
    "lenName": 16,
    "lenType": 16,
    "lenVar": 40
   },
   "kernels_config": {
    "python": {
     "delete_cmd_postfix": "",
     "delete_cmd_prefix": "del ",
     "library": "var_list.py",
     "varRefreshCmd": "print(var_dic_list())"
    },
    "r": {
     "delete_cmd_postfix": ") ",
     "delete_cmd_prefix": "rm(",
     "library": "var_list.r",
     "varRefreshCmd": "cat(var_dic_list()) "
    }
   },
   "position": {
    "height": "1097px",
    "left": "2190px",
    "right": "20px",
    "top": "120px",
    "width": "337px"
   },
   "types_to_exclude": [
    "module",
    "function",
    "builtin_function_or_method",
    "instance",
    "_Feature"
   ],
   "window_display": false
  }
 },
 "nbformat": 4,
 "nbformat_minor": 2
}
